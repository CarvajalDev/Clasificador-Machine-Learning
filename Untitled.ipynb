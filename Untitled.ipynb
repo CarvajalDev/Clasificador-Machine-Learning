{
 "cells": [
  {
   "cell_type": "markdown",
   "metadata": {},
   "source": [
    "## Proyecto Computación Paralela"
   ]
  },
  {
   "cell_type": "code",
   "execution_count": 8,
   "metadata": {},
   "outputs": [],
   "source": [
    "import numpy as np"
   ]
  },
  {
   "cell_type": "code",
   "execution_count": 10,
   "metadata": {},
   "outputs": [],
   "source": [
    "from mnist import MNIST"
   ]
  },
  {
   "cell_type": "code",
   "execution_count": 11,
   "metadata": {},
   "outputs": [],
   "source": [
    "from sklearn.model_selection import train_test_split"
   ]
  },
  {
   "cell_type": "code",
   "execution_count": 12,
   "metadata": {},
   "outputs": [],
   "source": [
    "mndata = MNIST('MNIST_data')"
   ]
  },
  {
   "cell_type": "code",
   "execution_count": 13,
   "metadata": {},
   "outputs": [],
   "source": [
    "datos, labels = mndata.load_training()"
   ]
  },
  {
   "cell_type": "code",
   "execution_count": 14,
   "metadata": {},
   "outputs": [],
   "source": [
    "%matplotlib inline\n",
    "\n",
    "from matplotlib import pyplot as plt"
   ]
  },
  {
   "cell_type": "code",
   "execution_count": 15,
   "metadata": {},
   "outputs": [
    {
     "data": {
      "image/png": "[encoded data removed]",
      "text/plain": [
       "<Figure size 432x288 with 25 Axes>"
      ]
     },
     "metadata": {},
     "output_type": "display_data"
    }
   ],
   "source": [
    "plt.gray()\n",
    "\n",
    "for i in range(25):\n",
    "    plt.subplot(5,5,i+1)\n",
    "    \n",
    "    d_image = datos [i]\n",
    "    d_image = np.array(d_image, dtype='float')\n",
    "    \n",
    "    pixels = d_image.reshape((28,28))\n",
    "    \n",
    "    plt.imshow(pixels, cmap='gray')\n",
    "    plt.axis('off')\n",
    "    \n",
    "plt.show()"
   ]
  },
  {
   "cell_type": "code",
   "execution_count": null,
   "metadata": {},
   "outputs": [],
   "source": [
    "#Entrenamiento\n",
    "\n",
    "#prueba"
   ]
  },
  {
   "cell_type": "code",
   "execution_count": 16,
   "metadata": {},
   "outputs": [],
   "source": [
    "train_data, test_data, train_labels, test_labels = train_test_split(datos, labels, test_size=0.3, random_state= 42)"
   ]
  },
  {
   "cell_type": "markdown",
   "metadata": {},
   "source": [
    "## Algoritmo Arbol de desición"
   ]
  },
  {
   "cell_type": "code",
   "execution_count": 18,
   "metadata": {},
   "outputs": [],
   "source": [
    "#Libreria SKLEARN\n",
    "\n",
    "#Modelos De Machine Learning:\n",
    "from sklearn.tree import DecisionTreeClassifier"
   ]
  },
  {
   "cell_type": "code",
   "execution_count": 19,
   "metadata": {},
   "outputs": [],
   "source": [
    "clf_dt = DecisionTreeClassifier()"
   ]
  },
  {
   "cell_type": "code",
   "execution_count": 21,
   "metadata": {},
   "outputs": [
    {
     "data": {
      "text/plain": [
       "DecisionTreeClassifier(class_weight=None, criterion='gini', max_depth=None,\n",
       "            max_features=None, max_leaf_nodes=None,\n",
       "            min_impurity_decrease=0.0, min_impurity_split=None,\n",
       "            min_samples_leaf=1, min_samples_split=2,\n",
       "            min_weight_fraction_leaf=0.0, presort=False, random_state=None,\n",
       "            splitter='best')"
      ]
     },
     "execution_count": 21,
     "metadata": {},
     "output_type": "execute_result"
    }
   ],
   "source": [
    "clf_dt.fit(train_data, train_labels)"
   ]
  },
  {
   "cell_type": "markdown",
   "metadata": {},
   "source": [
    "## Evaluación del algoritmo"
   ]
  },
  {
   "cell_type": "code",
   "execution_count": 22,
   "metadata": {},
   "outputs": [],
   "source": [
    "from sklearn.metrics import confusion_matrix"
   ]
  },
  {
   "cell_type": "code",
   "execution_count": 23,
   "metadata": {},
   "outputs": [],
   "source": [
    "#Defino funcion para evaluar el clasificador\n",
    "\n",
    "def evaluate_classifier(clf, test_data, test_labels):\n",
    "    pred = clf.predict(test_data)\n",
    "    \n",
    "    MC = confusion_matrix(test_labels, pred)\n",
    "    return MC"
   ]
  },
  {
   "cell_type": "code",
   "execution_count": 24,
   "metadata": {},
   "outputs": [],
   "source": [
    "#Evaluo el clasificador con todo el set de entrenamiento y prueba\n",
    "\n",
    "#Evaluo el arbol de decisiones\n",
    "\n",
    "MC = evaluate_classifier(clf_dt, test_data, test_labels)"
   ]
  },
  {
   "cell_type": "code",
   "execution_count": 25,
   "metadata": {},
   "outputs": [
    {
     "name": "stdout",
     "output_type": "stream",
     "text": [
      "[[1624    3   32   17   18   33   34    8   27    9]\n",
      " [   2 1914   20   13    3    4    4   12   12   10]\n",
      " [  18   32 1463   54   16   27   44   42   43   20]\n",
      " [  16   19   59 1501    6   90   12   37   66   40]\n",
      " [   8    6   22    9 1493   24   24   34   24   82]\n",
      " [  30   14   25   70   20 1328   41   15   67   43]\n",
      " [  21    7   30   12   35   33 1605    4   33    7]\n",
      " [  10   16   47   17   24   19    2 1761   14   27]\n",
      " [  13   25   55   53   57   59   34   25 1350   59]\n",
      " [  15   11   21   29   79   41   11   63   48 1445]]\n"
     ]
    }
   ],
   "source": [
    "#Visualización MATRIZ DE CONFUSION\n",
    "\n",
    "print(MC)"
   ]
  },
  {
   "cell_type": "code",
   "execution_count": 26,
   "metadata": {},
   "outputs": [],
   "source": [
    "#Calculo el Score\n",
    "\n",
    "score = MC.diagonal().sum()*100./MC.sum()"
   ]
  },
  {
   "cell_type": "code",
   "execution_count": 27,
   "metadata": {},
   "outputs": [
    {
     "name": "stdout",
     "output_type": "stream",
     "text": [
      "86.02222222222223\n"
     ]
    }
   ],
   "source": [
    "#Imprimo el Score\n",
    "print(score)"
   ]
  },
  {
   "cell_type": "markdown",
   "metadata": {},
   "source": [
    "## Algoritmo Random Forest"
   ]
  },
  {
   "cell_type": "code",
   "execution_count": 28,
   "metadata": {},
   "outputs": [],
   "source": [
    "from sklearn.ensemble import RandomForestClassifier"
   ]
  },
  {
   "cell_type": "code",
   "execution_count": 30,
   "metadata": {},
   "outputs": [],
   "source": [
    "#Creo Clasificador con Random Forest\n",
    "clf_rd = RandomForestClassifier(n_estimators = 150, min_samples_split=2)"
   ]
  },
  {
   "cell_type": "code",
   "execution_count": 31,
   "metadata": {},
   "outputs": [
    {
     "data": {
      "text/plain": [
       "RandomForestClassifier(bootstrap=True, class_weight=None, criterion='gini',\n",
       "            max_depth=None, max_features='auto', max_leaf_nodes=None,\n",
       "            min_impurity_decrease=0.0, min_impurity_split=None,\n",
       "            min_samples_leaf=1, min_samples_split=2,\n",
       "            min_weight_fraction_leaf=0.0, n_estimators=150, n_jobs=None,\n",
       "            oob_score=False, random_state=None, verbose=0,\n",
       "            warm_start=False)"
      ]
     },
     "execution_count": 31,
     "metadata": {},
     "output_type": "execute_result"
    }
   ],
   "source": [
    "#Entreno el clasificador con el nuevo algortimo\n",
    "clf_rd.fit(train_data, train_labels)"
   ]
  },
  {
   "cell_type": "markdown",
   "metadata": {},
   "source": [
    "### Evaluacion del nuevo algoritmo"
   ]
  },
  {
   "cell_type": "code",
   "execution_count": 33,
   "metadata": {},
   "outputs": [],
   "source": [
    "#Matriz de Confusión\n",
    "MC = evaluate_classifier(clf_rd, test_data, test_labels)"
   ]
  },
  {
   "cell_type": "code",
   "execution_count": 34,
   "metadata": {},
   "outputs": [
    {
     "name": "stdout",
     "output_type": "stream",
     "text": [
      "[[1771    0    2    1    3    6    8    0   12    2]\n",
      " [   0 1966   12    6    3    0    2    2    1    2]\n",
      " [   6    7 1703    4    6    1    5   15    9    3]\n",
      " [   4    1   32 1735    1   23    2   15   21   12]\n",
      " [   3    1    1    0 1676    0    6    3    3   33]\n",
      " [  10    2    3   17    1 1589   11    1   12    7]\n",
      " [   4    1    1    0    5   11 1759    0    6    0]\n",
      " [   1    9   26    2    9    0    0 1869    4   17]\n",
      " [   1    7   14   14   16   18    5    1 1644   10]\n",
      " [   8    4    5   12   25    7    2   12    9 1679]]\n"
     ]
    }
   ],
   "source": [
    "print(MC)"
   ]
  },
  {
   "cell_type": "code",
   "execution_count": 35,
   "metadata": {},
   "outputs": [],
   "source": [
    "#SCORE\n",
    "\n",
    "score = MC.diagonal().sum()*100./MC.sum()"
   ]
  },
  {
   "cell_type": "code",
   "execution_count": 36,
   "metadata": {},
   "outputs": [
    {
     "name": "stdout",
     "output_type": "stream",
     "text": [
      "96.61666666666666\n"
     ]
    }
   ],
   "source": [
    "print(score)"
   ]
  },
  {
   "cell_type": "markdown",
   "metadata": {},
   "source": [
    "## Test con datos nuevos"
   ]
  },
  {
   "cell_type": "code",
   "execution_count": 37,
   "metadata": {},
   "outputs": [],
   "source": [
    "#Cargo los datos de prueba\n",
    "\n",
    "test_data, test_labels = mndata.load_testing()"
   ]
  },
  {
   "cell_type": "code",
   "execution_count": 38,
   "metadata": {},
   "outputs": [],
   "source": [
    "predicted = clf_rd.predict(test_data)"
   ]
  },
  {
   "cell_type": "code",
   "execution_count": 39,
   "metadata": {},
   "outputs": [],
   "source": [
    "#Evaluo los resultados con la matriz de confusión\n",
    "\n",
    "MC = evaluate_classifier(clf_rd, test_data, np.array(test_labels))"
   ]
  },
  {
   "cell_type": "code",
   "execution_count": 40,
   "metadata": {},
   "outputs": [
    {
     "name": "stdout",
     "output_type": "stream",
     "text": [
      "[[ 972    1    0    0    0    1    2    1    2    1]\n",
      " [   0 1123    2    3    1    2    2    1    1    0]\n",
      " [   6    0  996    7    3    1    3    9    7    0]\n",
      " [   1    0    8  971    0    6    1    9   10    4]\n",
      " [   1    0    2    0  958    0    5    0    3   13]\n",
      " [   4    0    1   17    3  852    4    2    5    4]\n",
      " [   6    3    0    0    3    5  938    0    3    0]\n",
      " [   1    5   24    1    1    0    0  987    1    8]\n",
      " [   4    0    5    7    5    7    5    4  929    8]\n",
      " [   5    5    3   11   12    7    1    4    6  955]]\n"
     ]
    }
   ],
   "source": [
    "print(MC)"
   ]
  },
  {
   "cell_type": "code",
   "execution_count": 41,
   "metadata": {},
   "outputs": [
    {
     "name": "stdout",
     "output_type": "stream",
     "text": [
      "96.81\n"
     ]
    }
   ],
   "source": [
    "#Score\n",
    "score = MC.diagonal().sum()*100./MC.sum()\n",
    "\n",
    "print(score)"
   ]
  },
  {
   "cell_type": "markdown",
   "metadata": {},
   "source": [
    "# La prueba final"
   ]
  },
  {
   "cell_type": "code",
   "execution_count": 55,
   "metadata": {},
   "outputs": [
    {
     "data": {
      "image/png": "[encoded data removed]",
      "text/plain": [
       "<Figure size 432x288 with 1 Axes>"
      ]
     },
     "metadata": {},
     "output_type": "display_data"
    }
   ],
   "source": [
    "#Mostrar digito seleccionado\n",
    "\n",
    "digitextra = test_data[6]\n",
    "\n",
    "d = np.array(digitextra, dtype='float')\n",
    "pixels = d.reshape((28,28))\n",
    "plt.imshow(pixels, cmap='gray')\n",
    "plt.show()"
   ]
  },
  {
   "cell_type": "markdown",
   "metadata": {},
   "source": [
    "## ¿Que número es el de la foto?"
   ]
  },
  {
   "cell_type": "code",
   "execution_count": null,
   "metadata": {},
   "outputs": [],
   "source": [
    "#Predecir que digito sera\n",
    "print(clf_rd.predict([test_data[]]))"
   ]
  }
 ],
 "metadata": {
  "kernelspec": {
   "display_name": "Python 3",
   "language": "python",
   "name": "python3"
  },
  "language_info": {
   "codemirror_mode": {
    "name": "ipython",
    "version": 3
   },
   "file_extension": ".py",
   "mimetype": "text/x-python",
   "name": "python",
   "nbconvert_exporter": "python",
   "pygments_lexer": "ipython3",
   "version": "3.6.4"
  }
 },
 "nbformat": 4,
 "nbformat_minor": 2
}
